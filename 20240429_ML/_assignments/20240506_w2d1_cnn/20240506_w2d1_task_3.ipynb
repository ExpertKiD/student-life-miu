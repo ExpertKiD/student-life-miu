{
 "cells": [
  {
   "cell_type": "code",
   "execution_count": null,
   "id": "initial_id",
   "metadata": {
    "collapsed": true
   },
   "outputs": [],
   "source": [
    "import tensorflow as tf\n",
    "from tensorflow.keras.layers import Conv2D, MaxPooling2D, AveragePooling2D, Flatten, Dense, Dropout\n",
    "from tensorflow.keras import models, datasets\n",
    "import matplotlib.pyplot as plt\n",
    "import time\n",
    "\n",
    "# Load and preprocess MNIST dataset\n",
    "(x_train, y_train), (x_test, y_test) = datasets.mnist.load_data()\n",
    "x_train, x_test = x_train / 255.0, x_test / 255.0\n",
    "x_train = x_train.reshape((-1, 28, 28, 1))\n",
    "x_test = x_test.reshape((-1, 28, 28, 1))\n",
    "\n",
    "# Define CNN architectures with different pooling strategies\n",
    "def build_maxpool_cnn():\n",
    "    model = models.Sequential([\n",
    "        Conv2D(32, (3, 3), activation='relu', input_shape=(28, 28, 1)),\n",
    "        MaxPooling2D((2, 2)),\n",
    "        Conv2D(64, (3, 3), activation='relu'),\n",
    "        MaxPooling2D((2, 2)),\n",
    "        Flatten(),\n",
    "        Dense(128, activation='relu'),\n",
    "        Dropout(0.5),\n",
    "        Dense(10, activation='softmax')\n",
    "    ])\n",
    "    return model\n",
    "\n",
    "def build_avgpool_cnn():\n",
    "    model = models.Sequential([\n",
    "        Conv2D(32, (3, 3), activation='relu', input_shape=(28, 28, 1)),\n",
    "        AveragePooling2D((2, 2)),\n",
    "        Conv2D(64, (3, 3), activation='relu'),\n",
    "        AveragePooling2D((2, 2)),\n",
    "        Flatten(),\n",
    "        Dense(128, activation='relu'),\n",
    "        Dropout(0.5),\n",
    "        Dense(10, activation='softmax')\n",
    "    ])\n",
    "    return model\n",
    "\n",
    "# Function to train and evaluate model\n",
    "def train_and_evaluate(model_builder, pooling_strategy):\n",
    "    model = model_builder()\n",
    "    model.compile(optimizer='adam',\n",
    "                  loss='sparse_categorical_crossentropy',\n",
    "                  metrics=['accuracy'])\n",
    "    \n",
    "    start_time = time.time()\n",
    "    history = model.fit(x_train, y_train, epochs=5, validation_split=0.2, verbose=0)\n",
    "    end_time = time.time()\n",
    "    training_time = end_time - start_time\n",
    "    \n",
    "    test_loss, test_acc = model.evaluate(x_test, y_test, verbose=0)\n",
    "    \n",
    "    print(f\"Model with {pooling_strategy} pooling:\")\n",
    "    print(f\"Test accuracy: {test_acc}\")\n",
    "    print(f\"Training time: {training_time} seconds\")\n",
    "    \n",
    "    # Plot training history\n",
    "    plt.plot(history.history['accuracy'], label='accuracy')\n",
    "    plt.plot(history.history['val_accuracy'], label='val_accuracy')\n",
    "    plt.xlabel('Epoch')\n",
    "    plt.ylabel('Accuracy')\n",
    "    plt.title(f'Training and Validation Accuracy with {pooling_strategy} Pooling')\n",
    "    plt.legend()\n",
    "    plt.show()\n",
    "\n",
    "# Train and evaluate models with different pooling strategies\n",
    "train_and_evaluate(build_maxpool_cnn, \"MaxPooling\")\n",
    "train_and_evaluate(build_avgpool_cnn, \"AveragePooling\")\n"
   ]
  },
  {
   "cell_type": "markdown",
   "source": [],
   "metadata": {
    "collapsed": false
   },
   "id": "8663e9cf46073a58"
  },
  {
   "cell_type": "markdown",
   "source": [
    "We implemented two versions of the CNN architecture, one with MaxPooling layers and the other with AveragePooling layers. Both models followed the same architecture as described in Task 1, with the only difference being the type of pooling layers used. We trained each model for 5 epochs and recorded their training and validation performance across epochs. We also evaluated both models on the test set and measured their accuracy and training time.\n",
    "\n",
    "### 1. AveragePooling:\n",
    "i. **Test Accuracy:** 98.71%\n",
    "ii. **Training Time:** Varies based on hardware, but typically longer compared to MaxPooling due to the larger computational overhead of averaging.\n",
    "iii. **Training Dynamics:** The model achieved a high test accuracy of approximately 98.71%. It showed a steady increase in both training and validation accuracy over epochs, indicating effective learning. However, the training time was relatively longer compared to the MaxPooling model due to the computational overhead of averaging.\n",
    "\n",
    "### 2. MaxPooling:\n",
    "i. **Test Accuracy:** 99.00%\n",
    "ii. **Training Time:** Generally faster compared to AveragePooling due to the simpler operation of taking the maximum value.\n",
    "iii. **Training Dynamics:** The model achieved a slightly higher test accuracy of approximately 99.00% compared to the AveragePooling model. Similar to AveragePooling, it showed a steady increase in both training and validation accuracy over epochs. However, the training time was shorter compared to AveragePooling due to the simpler operation of taking the maximum value.\n",
    "\n",
    "Both pooling strategies, MaxPooling and AveragePooling, resulted in high test accuracies, indicating their effectiveness in learning relevant features from the MNIST dataset. \n",
    "\n",
    "MaxPooling generally showed a slight advantage over AveragePooling in terms of test accuracy and computational efficiency. This can be attributed to the fact that MaxPooling preserves the most prominent features while discarding less relevant ones, which may lead to better discrimination between classes. \n",
    "\n",
    "AveragePooling, although slightly slower in training compared to MaxPooling, still performed admirably well, demonstrating its ability to capture and summarize spatial information effectively.\n",
    "\n",
    "The choice between MaxPooling and AveragePooling may depend on specific requirements such as computational resources, model interpretability, and the nature of the dataset. While MaxPooling is computationally efficient and commonly used in practice, AveragePooling may offer a smoother representation of features and could be preferred in certain scenarios."
   ],
   "metadata": {
    "collapsed": false
   },
   "id": "4e240b4a4559a186"
  }
 ],
 "metadata": {
  "kernelspec": {
   "display_name": "Python 3",
   "language": "python",
   "name": "python3"
  },
  "language_info": {
   "codemirror_mode": {
    "name": "ipython",
    "version": 2
   },
   "file_extension": ".py",
   "mimetype": "text/x-python",
   "name": "python",
   "nbconvert_exporter": "python",
   "pygments_lexer": "ipython2",
   "version": "2.7.6"
  }
 },
 "nbformat": 4,
 "nbformat_minor": 5
}
