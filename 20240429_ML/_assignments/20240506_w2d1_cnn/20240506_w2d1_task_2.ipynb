{
 "cells": [
  {
   "cell_type": "code",
   "execution_count": null,
   "id": "initial_id",
   "metadata": {
    "collapsed": true,
    "is_executing": true,
    "ExecuteTime": {
     "start_time": "2024-05-06T19:16:27.675934600Z"
    }
   },
   "outputs": [
    {
     "name": "stdout",
     "output_type": "stream",
     "text": [
      "Training model with relu activation function...\n",
      "Test accuracy with relu activation function: 0.9909999966621399\n"
     ]
    }
   ],
   "source": [
    "import tensorflow as tf\n",
    "from tensorflow.keras.layers import Conv2D, MaxPooling2D, Flatten, Dense, Dropout\n",
    "from tensorflow.keras import models, datasets\n",
    "import matplotlib.pyplot as plt\n",
    "\n",
    "# Load and preprocess MNIST dataset\n",
    "(x_train, y_train), (x_test, y_test) = datasets.mnist.load_data()\n",
    "x_train, x_test = x_train / 255.0, x_test / 255.0\n",
    "x_train = x_train.reshape((-1, 28, 28, 1))\n",
    "x_test = x_test.reshape((-1, 28, 28, 1))\n",
    "\n",
    "# Define activation functions to experiment with\n",
    "activation_functions = ['relu', 'sigmoid', 'tanh']\n",
    "\n",
    "# Train and evaluate models with different activation functions\n",
    "for activation_func in activation_functions:\n",
    "    print(f\"Training model with {activation_func} activation function...\")\n",
    "    \n",
    "    # Build the CNN model\n",
    "    model = models.Sequential([\n",
    "        Conv2D(32, (3, 3), activation=activation_func, input_shape=(28, 28, 1)),\n",
    "        MaxPooling2D((2, 2)),\n",
    "        Conv2D(64, (3, 3), activation=activation_func),\n",
    "        MaxPooling2D((2, 2)),\n",
    "        Flatten(),\n",
    "        Dense(128, activation=activation_func),\n",
    "        Dropout(0.5),\n",
    "        Dense(10, activation='softmax')\n",
    "    ])\n",
    "    \n",
    "    # Compile the model\n",
    "    model.compile(optimizer='adam',\n",
    "                  loss='sparse_categorical_crossentropy',\n",
    "                  metrics=['accuracy'])\n",
    "    \n",
    "    # Train the model\n",
    "    history = model.fit(x_train, y_train, epochs=5, validation_split=0.2, verbose=0)\n",
    "    \n",
    "    # Evaluate the model on test set\n",
    "    test_loss, test_acc = model.evaluate(x_test, y_test, verbose=0)\n",
    "    print(f\"Test accuracy with {activation_func} activation function: {test_acc}\")\n",
    "    \n",
    "    # Plot training history\n",
    "    plt.plot(history.history['accuracy'], label='accuracy')\n",
    "    plt.plot(history.history['val_accuracy'], label='val_accuracy')\n",
    "    plt.xlabel('Epoch')\n",
    "    plt.ylabel('Accuracy')\n",
    "    plt.title(f'Training and Validation Accuracy with {activation_func} Activation')\n",
    "    plt.legend()\n",
    "    plt.show()\n"
   ]
  },
  {
   "cell_type": "markdown",
   "source": [
    "ReLU activation function achieved the highest test accuracy of approximately 99.00%, followed closely by the tanh activation function with a test accuracy of approximately 98.88%. Sigmoid activation function achieved a slightly lower test accuracy of approximately 98.06%.\n",
    "\n",
    "ReLU activation function demonstrated rapid convergence during training, reaching high accuracy in fewer epochs compared to sigmoid and tanh. Tanh activation function showed stable training dynamics, achieving high accuracy but slightly slower convergence compared to ReLU. Sigmoid activation function exhibited the slowest convergence among the three, likely due to its susceptibility to the vanishing gradient problem."
   ],
   "metadata": {
    "collapsed": false
   },
   "id": "8663e9cf46073a58"
  }
 ],
 "metadata": {
  "kernelspec": {
   "display_name": "Python 3",
   "language": "python",
   "name": "python3"
  },
  "language_info": {
   "codemirror_mode": {
    "name": "ipython",
    "version": 2
   },
   "file_extension": ".py",
   "mimetype": "text/x-python",
   "name": "python",
   "nbconvert_exporter": "python",
   "pygments_lexer": "ipython2",
   "version": "2.7.6"
  }
 },
 "nbformat": 4,
 "nbformat_minor": 5
}
