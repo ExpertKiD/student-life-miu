{
 "cells": [
  {
   "cell_type": "code",
   "execution_count": null,
   "id": "initial_id",
   "metadata": {
    "collapsed": true,
    "is_executing": true,
    "ExecuteTime": {
     "start_time": "2024-05-06T19:01:41.661052900Z"
    }
   },
   "outputs": [
    {
     "name": "stdout",
     "output_type": "stream",
     "text": [
      "Epoch 1/10\n",
      "1250/1250 [==============================] - 28s 22ms/step - loss: 1.6804 - accuracy: 0.3835 - val_loss: 1.3379 - val_accuracy: 0.5256\n",
      "Epoch 2/10\n",
      "1250/1250 [==============================] - 24s 19ms/step - loss: 1.3691 - accuracy: 0.5108 - val_loss: 1.1957 - val_accuracy: 0.5787\n",
      "Epoch 3/10\n",
      "1250/1250 [==============================] - 26s 21ms/step - loss: 1.2406 - accuracy: 0.5623 - val_loss: 1.0912 - val_accuracy: 0.6247\n",
      "Epoch 4/10\n",
      "1250/1250 [==============================] - 26s 21ms/step - loss: 1.1594 - accuracy: 0.5930 - val_loss: 1.0174 - val_accuracy: 0.6452\n",
      "Epoch 5/10\n",
      "1250/1250 [==============================] - 27s 22ms/step - loss: 1.0998 - accuracy: 0.6138 - val_loss: 0.9878 - val_accuracy: 0.6600\n",
      "Epoch 6/10\n",
      "1250/1250 [==============================] - 27s 21ms/step - loss: 1.0453 - accuracy: 0.6336 - val_loss: 0.9736 - val_accuracy: 0.6557\n",
      "Epoch 7/10\n",
      "1250/1250 [==============================] - 26s 21ms/step - loss: 1.0050 - accuracy: 0.6470 - val_loss: 0.9497 - val_accuracy: 0.6740\n",
      "Epoch 8/10\n",
      "1250/1250 [==============================] - 23s 18ms/step - loss: 0.9642 - accuracy: 0.6612 - val_loss: 0.9353 - val_accuracy: 0.6767\n",
      "Epoch 9/10\n",
      "1250/1250 [==============================] - 24s 19ms/step - loss: 0.9268 - accuracy: 0.6743 - val_loss: 0.9244 - val_accuracy: 0.6811\n",
      "Epoch 10/10\n",
      "1250/1250 [==============================] - 23s 18ms/step - loss: 0.8955 - accuracy: 0.6830 - val_loss: 0.9182 - val_accuracy: 0.6893\n",
      "313/313 [==============================] - 2s 7ms/step - loss: 0.9175 - accuracy: 0.6839\n",
      "Test accuracy: 0.683899998664856\n"
     ]
    }
   ],
   "source": [
    "import tensorflow as tf\n",
    "from tensorflow.keras.layers import Conv2D, MaxPooling2D, Flatten, Dense, Dropout\n",
    "from tensorflow.keras import models, datasets\n",
    "import matplotlib.pyplot as plt\n",
    "\n",
    "# Load and preprocess CIFAR10 dataset\n",
    "(x_train, y_train), (x_test, y_test) = datasets.cifar10.load_data()\n",
    "x_train, x_test = x_train / 255.0, x_test / 255.0\n",
    "\n",
    "# Build the CNN model\n",
    "model = models.Sequential([\n",
    "    Conv2D(32, (3, 3), activation='relu', input_shape=(32, 32, 3)),\n",
    "    MaxPooling2D((2, 2)),\n",
    "    Conv2D(64, (3, 3), activation='relu'),\n",
    "    MaxPooling2D((2, 2)),\n",
    "    Flatten(),\n",
    "    Dense(128, activation='relu'),\n",
    "    Dropout(0.5),\n",
    "    Dense(10, activation='softmax')\n",
    "])\n",
    "\n",
    "# Compile the model\n",
    "model.compile(optimizer='adam',\n",
    "              loss='sparse_categorical_crossentropy',\n",
    "              metrics=['accuracy'])\n",
    "\n",
    "# Train the model\n",
    "history = model.fit(x_train, y_train, epochs=10, validation_split=0.2)\n",
    "\n",
    "# Evaluate the model on test set\n",
    "test_loss, test_acc = model.evaluate(x_test, y_test)\n",
    "print(\"Test accuracy:\", test_acc)\n",
    "\n",
    "# Plot training history\n",
    "plt.plot(history.history['accuracy'], label='accuracy')\n",
    "plt.plot(history.history['val_accuracy'], label = 'val_accuracy')\n",
    "plt.xlabel('Epoch')\n",
    "plt.ylabel('Accuracy')\n",
    "plt.ylim([0, 1])\n",
    "plt.legend(loc='lower right')\n",
    "plt.show()"
   ]
  }
 ],
 "metadata": {
  "kernelspec": {
   "display_name": "Python 3",
   "language": "python",
   "name": "python3"
  },
  "language_info": {
   "codemirror_mode": {
    "name": "ipython",
    "version": 2
   },
   "file_extension": ".py",
   "mimetype": "text/x-python",
   "name": "python",
   "nbconvert_exporter": "python",
   "pygments_lexer": "ipython2",
   "version": "2.7.6"
  }
 },
 "nbformat": 4,
 "nbformat_minor": 5
}
