{
 "cells": [
  {
   "cell_type": "code",
   "execution_count": 1,
   "id": "initial_id",
   "metadata": {
    "collapsed": true,
    "ExecuteTime": {
     "end_time": "2024-05-06T01:24:40.252688600Z",
     "start_time": "2024-05-06T01:23:14.324613800Z"
    }
   },
   "outputs": [
    {
     "name": "stdout",
     "output_type": "stream",
     "text": [
      "Training with 10 epochs and batch size 64:\n",
      "313/313 [==============================] - 1s 2ms/step - loss: 0.2655 - accuracy: 0.9264\n",
      "Test accuracy: 0.9264000058174133\n",
      "Training with 10 epochs and batch size 128:\n",
      "313/313 [==============================] - 0s 1ms/step - loss: 0.2629 - accuracy: 0.9274\n",
      "Test accuracy: 0.9273999929428101\n",
      "Training with 20 epochs and batch size 64:\n",
      "313/313 [==============================] - 1s 2ms/step - loss: 0.2728 - accuracy: 0.9287\n",
      "Test accuracy: 0.9286999702453613\n",
      "Training with 20 epochs and batch size 128:\n",
      "313/313 [==============================] - 1s 2ms/step - loss: 0.2727 - accuracy: 0.9282\n",
      "Test accuracy: 0.9282000064849854\n",
      "Training with optimizer: SGD\n",
      "313/313 [==============================] - 1s 1ms/step - loss: 0.3353 - accuracy: 0.9092\n",
      "Test accuracy: 0.9092000126838684\n",
      "Training with optimizer: RMSprop\n",
      "313/313 [==============================] - 1s 1ms/step - loss: 0.2763 - accuracy: 0.9250\n",
      "Test accuracy: 0.925000011920929\n"
     ]
    }
   ],
   "source": [
    "import tensorflow as tf\n",
    "from tensorflow.keras.datasets import mnist\n",
    "from tensorflow.keras.models import Sequential\n",
    "from tensorflow.keras.layers import Dense, Flatten\n",
    "from tensorflow.keras.utils import to_categorical\n",
    "\n",
    "# Load the dataset \n",
    "(train_images, train_labels), (test_images, test_labels) = mnist.load_data()\n",
    "\n",
    "# Normalize the images to have pixel values between 0 and 1 \n",
    "train_images = train_images / 255.0\n",
    "test_images = test_images / 255.0\n",
    "\n",
    "# Convert labels to one-hot encoded vectors \n",
    "train_labels = to_categorical(train_labels)\n",
    "test_labels = to_categorical(test_labels)\n",
    "\n",
    "# Define the model architecture \n",
    "model = Sequential([\n",
    "    Flatten(input_shape=(28, 28)),  # Flattens the input                \n",
    "    Dense(10, activation='softmax'),  # Output layer with 10 neurons for each digit and softmax activation\n",
    "])\n",
    "\n",
    "# Compile the model \n",
    "model.compile(optimizer='adam', loss='categorical_crossentropy', metrics=['accuracy'])\n",
    "\n",
    "# Train the model with different numbers of epochs and batch sizes\n",
    "for epochs in [10, 20]:\n",
    "    for batch_size in [64, 128]:\n",
    "        print(f\"Training with {epochs} epochs and batch size {batch_size}:\")\n",
    "        model.fit(train_images, train_labels, epochs=epochs, batch_size=batch_size, verbose=0)\n",
    "        # Evaluate the model \n",
    "        test_loss, test_acc = model.evaluate(test_images, test_labels)\n",
    "        print(f'Test accuracy: {test_acc}') \n",
    "\n",
    "# Change the optimizer and compare the model's performance\n",
    "optimizers = ['SGD', 'RMSprop']\n",
    "for optimizer in optimizers:\n",
    "    print(f\"Training with optimizer: {optimizer}\")\n",
    "    # Define the model with the specified optimizer\n",
    "    model = Sequential([\n",
    "        Flatten(input_shape=(28, 28)),  # Flattens the input                \n",
    "        Dense(10, activation='softmax'),  # Output layer with 10 neurons for each digit and softmax activation\n",
    "    ])\n",
    "    model.compile(optimizer=optimizer, loss='categorical_crossentropy', metrics=['accuracy'])\n",
    "    model.fit(train_images, train_labels, epochs=10, batch_size=64, verbose=0)\n",
    "    # Evaluate the model \n",
    "    test_loss, test_acc = model.evaluate(test_images, test_labels)\n",
    "    print(f'Test accuracy: {test_acc}')\n"
   ]
  },
  {
   "cell_type": "code",
   "outputs": [],
   "source": [],
   "metadata": {
    "collapsed": false
   },
   "id": "70ddc6a240baaf31"
  }
 ],
 "metadata": {
  "kernelspec": {
   "display_name": "Python 3",
   "language": "python",
   "name": "python3"
  },
  "language_info": {
   "codemirror_mode": {
    "name": "ipython",
    "version": 2
   },
   "file_extension": ".py",
   "mimetype": "text/x-python",
   "name": "python",
   "nbconvert_exporter": "python",
   "pygments_lexer": "ipython2",
   "version": "2.7.6"
  }
 },
 "nbformat": 4,
 "nbformat_minor": 5
}
