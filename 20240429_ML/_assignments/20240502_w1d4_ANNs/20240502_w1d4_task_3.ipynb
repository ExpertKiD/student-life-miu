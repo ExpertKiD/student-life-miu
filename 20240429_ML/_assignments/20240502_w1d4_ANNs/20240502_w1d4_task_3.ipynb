{
 "cells": [
  {
   "cell_type": "code",
   "execution_count": 1,
   "id": "initial_id",
   "metadata": {
    "collapsed": true,
    "ExecuteTime": {
     "end_time": "2024-05-06T01:28:50.559146900Z",
     "start_time": "2024-05-06T01:26:49.812463700Z"
    }
   },
   "outputs": [
    {
     "name": "stdout",
     "output_type": "stream",
     "text": [
      "Downloading data from https://storage.googleapis.com/tensorflow/tf-keras-datasets/train-labels-idx1-ubyte.gz\n",
      "29515/29515 [==============================] - 0s 1us/step\n",
      "Downloading data from https://storage.googleapis.com/tensorflow/tf-keras-datasets/train-images-idx3-ubyte.gz\n",
      "26421880/26421880 [==============================] - 3s 0us/step\n",
      "Downloading data from https://storage.googleapis.com/tensorflow/tf-keras-datasets/t10k-labels-idx1-ubyte.gz\n",
      "5148/5148 [==============================] - 0s 0s/step\n",
      "Downloading data from https://storage.googleapis.com/tensorflow/tf-keras-datasets/t10k-images-idx3-ubyte.gz\n",
      "4422102/4422102 [==============================] - 0s 0us/step\n",
      "Epoch 1/5\n",
      "1875/1875 [==============================] - 18s 9ms/step - loss: 0.4767 - accuracy: 0.8259\n",
      "Epoch 2/5\n",
      "1875/1875 [==============================] - 18s 9ms/step - loss: 0.3159 - accuracy: 0.8847\n",
      "Epoch 3/5\n",
      "1875/1875 [==============================] - 24s 13ms/step - loss: 0.2719 - accuracy: 0.9003\n",
      "Epoch 4/5\n",
      "1875/1875 [==============================] - 26s 14ms/step - loss: 0.2386 - accuracy: 0.9126\n",
      "Epoch 5/5\n",
      "1875/1875 [==============================] - 25s 13ms/step - loss: 0.2134 - accuracy: 0.9217\n",
      "313/313 [==============================] - 2s 6ms/step - loss: 0.2594 - accuracy: 0.9073\n",
      "Fashion MNIST Test accuracy: 0.9072999954223633\n"
     ]
    }
   ],
   "source": [
    "import tensorflow as tf\n",
    "from tensorflow.keras.datasets import fashion_mnist, cifar10\n",
    "from tensorflow.keras.models import Sequential\n",
    "from tensorflow.keras.layers import Dense, Flatten, Conv2D, MaxPooling2D\n",
    "from tensorflow.keras.utils import to_categorical\n",
    "\n",
    "# Load the Fashion MNIST dataset \n",
    "(train_images, train_labels), (test_images, test_labels) = fashion_mnist.load_data()\n",
    "\n",
    "# Normalize the images to have pixel values between 0 and 1 \n",
    "train_images = train_images / 255.0\n",
    "test_images = test_images / 255.0\n",
    "\n",
    "# Reshape the images for convolutional layers (Fashion MNIST)\n",
    "train_images = train_images.reshape((-1, 28, 28, 1))\n",
    "test_images = test_images.reshape((-1, 28, 28, 1))\n",
    "\n",
    "# Convert labels to one-hot encoded vectors \n",
    "train_labels = to_categorical(train_labels)\n",
    "test_labels = to_categorical(test_labels)\n",
    "\n",
    "# Define the model architecture for Fashion MNIST\n",
    "model_fashion_mnist = Sequential([\n",
    "    Conv2D(32, (3, 3), activation='relu', input_shape=(28, 28, 1)),\n",
    "    MaxPooling2D((2, 2)),\n",
    "    Conv2D(64, (3, 3), activation='relu'),\n",
    "    MaxPooling2D((2, 2)),\n",
    "    Flatten(),\n",
    "    Dense(64, activation='relu'),\n",
    "    Dense(10, activation='softmax')\n",
    "])\n",
    "\n",
    "# Compile the model for Fashion MNIST\n",
    "model_fashion_mnist.compile(optimizer='adam', loss='categorical_crossentropy', metrics=['accuracy'])\n",
    "\n",
    "# Train the model on Fashion MNIST\n",
    "model_fashion_mnist.fit(train_images, train_labels, epochs=5, batch_size=32, verbose=1)\n",
    "\n",
    "# Evaluate the model on the test set for Fashion MNIST\n",
    "test_loss, test_acc = model_fashion_mnist.evaluate(test_images, test_labels)\n",
    "print(f'Fashion MNIST Test accuracy: {test_acc}')\n",
    "\n"
   ]
  },
  {
   "cell_type": "code",
   "outputs": [
    {
     "name": "stdout",
     "output_type": "stream",
     "text": [
      "Downloading data from https://www.cs.toronto.edu/~kriz/cifar-10-python.tar.gz\n",
      "170498071/170498071 [==============================] - 16s 0us/step\n",
      "Epoch 1/5\n",
      "1563/1563 [==============================] - 32s 20ms/step - loss: 1.4956 - accuracy: 0.4593\n",
      "Epoch 2/5\n",
      "1563/1563 [==============================] - 25s 16ms/step - loss: 1.1345 - accuracy: 0.5989\n",
      "Epoch 3/5\n",
      "1563/1563 [==============================] - 19s 12ms/step - loss: 1.0169 - accuracy: 0.6456\n",
      "Epoch 4/5\n",
      "1563/1563 [==============================] - 22s 14ms/step - loss: 0.9379 - accuracy: 0.6732\n",
      "Epoch 5/5\n",
      "1563/1563 [==============================] - 20s 13ms/step - loss: 0.8793 - accuracy: 0.6957\n",
      "313/313 [==============================] - 2s 5ms/step - loss: 0.9312 - accuracy: 0.6814\n",
      "CIFAR-10 Test accuracy: 0.6814000010490417\n"
     ]
    }
   ],
   "source": [
    "# Load the CIFAR-10 dataset \n",
    "(train_images, train_labels), (test_images, test_labels) = cifar10.load_data()\n",
    "\n",
    "# Normalize the images to have pixel values between 0 and 1 \n",
    "train_images = train_images / 255.0\n",
    "test_images = test_images / 255.0\n",
    "\n",
    "# Convert labels to one-hot encoded vectors \n",
    "train_labels = to_categorical(train_labels)\n",
    "test_labels = to_categorical(test_labels)\n",
    "\n",
    "# Define the model architecture for CIFAR-10\n",
    "model_cifar10 = Sequential([\n",
    "    Conv2D(32, (3, 3), activation='relu', input_shape=(32, 32, 3)),\n",
    "    MaxPooling2D((2, 2)),\n",
    "    Conv2D(64, (3, 3), activation='relu'),\n",
    "    MaxPooling2D((2, 2)),\n",
    "    Flatten(),\n",
    "    Dense(64, activation='relu'),\n",
    "    Dense(10, activation='softmax')\n",
    "])\n",
    "\n",
    "# Compile the model for CIFAR-10\n",
    "model_cifar10.compile(optimizer='adam', loss='categorical_crossentropy', metrics=['accuracy'])\n",
    "\n",
    "# Train the model on CIFAR-10\n",
    "model_cifar10.fit(train_images, train_labels, epochs=5, batch_size=32, verbose=1)\n",
    "\n",
    "# Evaluate the model on the test set for CIFAR-10\n",
    "test_loss, test_acc = model_cifar10.evaluate(test_images, test_labels)\n",
    "print(f'CIFAR-10 Test accuracy: {test_acc}')\n"
   ],
   "metadata": {
    "collapsed": false,
    "ExecuteTime": {
     "end_time": "2024-05-06T01:31:16.137703100Z",
     "start_time": "2024-05-06T01:28:50.558139100Z"
    }
   },
   "id": "70ddc6a240baaf31",
   "execution_count": 2
  }
 ],
 "metadata": {
  "kernelspec": {
   "display_name": "Python 3",
   "language": "python",
   "name": "python3"
  },
  "language_info": {
   "codemirror_mode": {
    "name": "ipython",
    "version": 2
   },
   "file_extension": ".py",
   "mimetype": "text/x-python",
   "name": "python",
   "nbconvert_exporter": "python",
   "pygments_lexer": "ipython2",
   "version": "2.7.6"
  }
 },
 "nbformat": 4,
 "nbformat_minor": 5
}
