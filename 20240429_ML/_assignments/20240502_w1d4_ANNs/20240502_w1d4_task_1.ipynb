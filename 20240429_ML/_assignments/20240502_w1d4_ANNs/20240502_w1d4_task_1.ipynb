{
 "cells": [
  {
   "cell_type": "code",
   "execution_count": 6,
   "id": "initial_id",
   "metadata": {
    "collapsed": true,
    "ExecuteTime": {
     "end_time": "2024-05-06T01:21:30.179029700Z",
     "start_time": "2024-05-06T01:20:45.729589600Z"
    }
   },
   "outputs": [
    {
     "name": "stdout",
     "output_type": "stream",
     "text": [
      "Epoch 1/10\n",
      "1875/1875 [==============================] - 5s 2ms/step - loss: 0.6323 - accuracy: 0.7998\n",
      "Epoch 2/10\n",
      "1875/1875 [==============================] - 4s 2ms/step - loss: 0.3804 - accuracy: 0.8856\n",
      "Epoch 3/10\n",
      "1875/1875 [==============================] - 4s 2ms/step - loss: 0.3367 - accuracy: 0.8984\n",
      "Epoch 4/10\n",
      "1875/1875 [==============================] - 4s 2ms/step - loss: 0.3039 - accuracy: 0.9091\n",
      "Epoch 5/10\n",
      "1875/1875 [==============================] - 4s 2ms/step - loss: 0.2882 - accuracy: 0.9145\n",
      "Epoch 6/10\n",
      "1875/1875 [==============================] - 4s 2ms/step - loss: 0.2820 - accuracy: 0.9171\n",
      "Epoch 7/10\n",
      "1875/1875 [==============================] - 4s 2ms/step - loss: 0.2726 - accuracy: 0.9192\n",
      "Epoch 8/10\n",
      "1875/1875 [==============================] - 4s 2ms/step - loss: 0.2619 - accuracy: 0.9236\n",
      "Epoch 9/10\n",
      "1875/1875 [==============================] - 5s 3ms/step - loss: 0.2599 - accuracy: 0.9227\n",
      "Epoch 10/10\n",
      "1875/1875 [==============================] - 4s 2ms/step - loss: 0.2530 - accuracy: 0.9249\n",
      "313/313 [==============================] - 1s 2ms/step - loss: 0.1216 - accuracy: 0.9639\n",
      "Test accuracy: 0.9639000296592712\n"
     ]
    }
   ],
   "source": [
    "# 6.3 ANN Library \n",
    "import tensorflow as tf\n",
    "from tensorflow.keras.datasets import mnist\n",
    "from tensorflow.keras.models import Sequential\n",
    "from tensorflow.keras.layers import Dense, Flatten, Dropout\n",
    "from tensorflow.keras.utils import to_categorical\n",
    "\n",
    "# Load the dataset \n",
    "(train_images, train_labels), (test_images, test_labels) = mnist.load_data()\n",
    "\n",
    "# Normalize the images to have pixel values between 0 and 1 \n",
    "train_images = train_images / 255.0\n",
    "test_images = test_images / 255.0\n",
    "\n",
    "# Convert labels to one-hot encoded vectors \n",
    "train_labels = to_categorical(train_labels)\n",
    "test_labels = to_categorical(test_labels)\n",
    "\n",
    "# Define the model architecture \n",
    "# Define the model architecture \n",
    "model = Sequential([\n",
    "    Flatten(input_shape=(28, 28)),  # Flattens the input                \n",
    "    Dense(64, activation='relu'),  # First Dense layer with 64 neurons and ReLU activation\n",
    "    Dropout(0.5),  # Dropout layer with dropout rate of 0.5\n",
    "    Dense(128, activation='relu'),  # Second Dense layer with 128 neurons and ReLU activation\n",
    "    Dropout(0.5),  # Dropout layer with dropout rate of 0.5\n",
    "    Dense(10, activation='softmax'),  # Output layer with 10 neurons for each digit and softmax activation\n",
    "])\n",
    "\n",
    "# Compile the model \n",
    "model.compile(optimizer='adam', loss='categorical_crossentropy', metrics=['accuracy'])\n",
    "\n",
    "# Train the model  \n",
    "model.fit(train_images, train_labels, epochs=5, batch_size=32)\n",
    "# Evaluate the model \n",
    "test_loss, test_acc = model.evaluate(test_images, test_labels)\n",
    "print(f'Test accuracy: {test_acc}') "
   ]
  },
  {
   "cell_type": "code",
   "outputs": [],
   "source": [],
   "metadata": {
    "collapsed": false
   },
   "id": "70ddc6a240baaf31"
  }
 ],
 "metadata": {
  "kernelspec": {
   "display_name": "Python 3",
   "language": "python",
   "name": "python3"
  },
  "language_info": {
   "codemirror_mode": {
    "name": "ipython",
    "version": 2
   },
   "file_extension": ".py",
   "mimetype": "text/x-python",
   "name": "python",
   "nbconvert_exporter": "python",
   "pygments_lexer": "ipython2",
   "version": "2.7.6"
  }
 },
 "nbformat": 4,
 "nbformat_minor": 5
}
